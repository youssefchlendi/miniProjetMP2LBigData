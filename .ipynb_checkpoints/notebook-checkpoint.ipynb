{
 "cells": [
  {
   "cell_type": "code",
   "execution_count": 2,
   "id": "10dbf47f-4d94-4f9e-becc-b7435ced1a5e",
   "metadata": {},
   "outputs": [
    {
     "data": {
      "text/plain": [
       "mainSentiment: Int = 0\r\n",
       "longest: Int = 0\r\n",
       "sentimentText: Array[String] = Array(Very Negative, Negative, Neutral, Positive, Very Positive)\r\n"
      ]
     },
     "execution_count": 2,
     "metadata": {},
     "output_type": "execute_result"
    }
   ],
   "source": [
    "var mainSentiment = 0\n",
    "var longest = 0;\n",
    "val sentimentText = Array(\"Very Negative\", \"Negative\", \"Neutral\", \"Positive\", \"Very Positive\")"
   ]
  }
 ],
 "metadata": {
  "kernelspec": {
   "display_name": "spylon-kernel",
   "language": "scala",
   "name": "spylon-kernel"
  },
  "language_info": {
   "codemirror_mode": "text/x-scala",
   "file_extension": ".scala",
   "help_links": [
    {
     "text": "MetaKernel Magics",
     "url": "https://metakernel.readthedocs.io/en/latest/source/README.html"
    }
   ],
   "mimetype": "text/x-scala",
   "name": "scala",
   "pygments_lexer": "scala",
   "version": "0.4.1"
  }
 },
 "nbformat": 4,
 "nbformat_minor": 5
}
